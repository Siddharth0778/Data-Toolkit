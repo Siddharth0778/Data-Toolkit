{
  "nbformat": 4,
  "nbformat_minor": 0,
  "metadata": {
    "colab": {
      "provenance": []
    },
    "kernelspec": {
      "name": "python3",
      "display_name": "Python 3"
    },
    "language_info": {
      "name": "python"
    }
  },
  "cells": [
    {
      "cell_type": "markdown",
      "source": [
        "# Data Toolkit"
      ],
      "metadata": {
        "id": "YxQRVzjxoPTj"
      }
    },
    {
      "cell_type": "markdown",
      "source": [
        "# Questions"
      ],
      "metadata": {
        "id": "osrAJCEgoYg6"
      }
    },
    {
      "cell_type": "markdown",
      "source": [
        "Q1. What is NumPy, and why is it widely used in Python?\n",
        "- What is NumPy?\n",
        "  - NumPy stands for Numerical Python\n",
        "  - It's a core Python library for numerical and scientific computing\n",
        "  - Provides a powerful n-dimensional array object called ndarray\n",
        "- Why is NumPy Widely Used?\n",
        "  - Efficient arrays: Uses fixed-type arrays that are much faster than Python lists\n",
        "  - High performance: Internally written in C for optimized speed\n",
        "  - Broadcasting: Allows arithmetic operations on arrays of different shapes\n",
        "  - Rich math functions: Includes statistical, algebraic, and trigonometric operations\n",
        "  - Great interoperability: Integrates well with Pandas, Matplotlib, SciPy, etc.\n",
        "  - Linear algebra support: Offers tools for matrix multiplication, eigenvalues, etc.\n",
        "  - Foundation for data science: Forms the base for most machine learning and data analysis libraries"
      ],
      "metadata": {
        "id": "FWqxq9QEoarS"
      }
    },
    {
      "cell_type": "markdown",
      "source": [
        "Q2.   How does broadcasting work in NumPy?\n",
        "- Broadcasting in NumPy allows arrays of different shapes to be used in arithmetic operations without explicit looping.\n",
        "- Key Idea:\n",
        "  - When performing operations on two arrays, NumPy automatically expands the smaller array to match the shape of the larger one without copying data, following specific rules.\n",
        "- Broadcasting Rules:\n",
        "  - If arrays have different numbers of dimensions, the smaller one is padded with ones on the left.\n",
        "- Dimensions are compared from right to left:\n",
        "  - If the dimensions are equal, or\n",
        "  - One of them is 1\n",
        "    - They are considered compatible.\n",
        "  - If any dimension is not compatible, broadcasting fails."
      ],
      "metadata": {
        "id": "WXdvSJhP9X5S"
      }
    },
    {
      "cell_type": "markdown",
      "source": [
        "Q3. What is a Pandas DataFrame?\n",
        "- A Pandas DataFrame is a 2-dimensional labeled data structure in Python, similar to a spreadsheet or SQL table. It is part of the pandas library and is widely used for data manipulation and analysis.\n",
        "- Key Features:\n",
        "  - Rows and columns: Tabular format with labeled axes (row index and column names)\n",
        "  - Heterogeneous data: Can hold different data types in each column (e.g., int, float, string)\n",
        "  - Size mutable: Can add/remove rows and columns\n",
        "  - Powerful operations: Supports filtering, grouping, merging, reshaping, and more"
      ],
      "metadata": {
        "id": "8hHKdE409vpc"
      }
    },
    {
      "cell_type": "markdown",
      "source": [
        "Q4.\tExplain the use of the groupby() method in Pandas.\n",
        "- The groupby() method in Pandas is used to split a DataFrame into groups, apply operations, and then combine the results — a concept known as split-apply-combine.\n",
        "- Why Use groupby()?\n",
        "  - To analyze groups within a dataset (e.g., by category, department, date)\n",
        "  - To aggregate, filter, or transform grouped data efficiently\n",
        "  - Ideal for summarizing large datasets"
      ],
      "metadata": {
        "id": "7XrS3Iy1-Cij"
      }
    },
    {
      "cell_type": "code",
      "source": [
        "# Syntax :\n",
        "df.groupby('column_name')\n",
        "df.groupby(['col1', 'col2'])"
      ],
      "metadata": {
        "id": "KkPma3sS-Sqn"
      },
      "execution_count": 2,
      "outputs": []
    },
    {
      "cell_type": "markdown",
      "source": [
        "Q5. Why is Seaborn preferred for statistical visualizations?\n",
        "- Seaborn is a Python data visualization library built on top of Matplotlib and closely integrated with Pandas. It is widely preferred for statistical visualizations due to its simplicity and power.\n",
        "- Key Reasons Seaborn Is Preferred:\n",
        "  - Built-in support for statistical plots\n",
        "    - Includes histograms, box plots, violin plots, bar plots, pair plots, etc.\n",
        "    - Designed to work well with distributions and categorical data\n",
        "  - Cleaner, more attractive visuals by default\n",
        "    - Automatic color themes and styling\n",
        "    - Less code needed for professional-looking plots\n",
        "  - Works seamlessly with Pandas DataFrames\n",
        "    - Directly accepts DataFrames and column names\n",
        "    - Makes grouping and plotting by category easy\n",
        "  - Built-in grouping and aggregation\n",
        "    - Automatically performs statistical aggregation like mean, confidence intervals, etc.\n",
        "   - Great for summarizing and comparing categories\n",
        "  - Facilitates exploratory data analysis (EDA)\n",
        "    - Quick generation of multi-variable plots\n",
        "    - Helps spot trends, patterns, and correlations in data\n",
        "- Common Seaborn Functions:\n",
        "  - sns.histplot() - Distribution (histogram)\n",
        "  - sns.boxplot() - Spread and outliers\n",
        "  - sns.violinplot() - Distribution + density\n",
        "  - sns.barplot() - Aggregated bar chart (mean)\n",
        "  - sns.scatterplot() - Relationship between variables\n",
        "  - sns.pairplot() - Pairwise relationships\n",
        "  - sns.heatmap() - Correlation or matrix heatmap"
      ],
      "metadata": {
        "id": "m4ZiNldD-eCc"
      }
    },
    {
      "cell_type": "markdown",
      "source": [
        "Q6. What are the differences between NumPy arrays and Python lists?\n",
        "- Here’s a clear comparison between NumPy arrays (np.array) and Python lists (list):\n",
        "1. Performance\n",
        "  - NumPy Array: Much faster and more memory efficient due to fixed-type and underlying C implementation.\n",
        "  - Python List: Slower; stores references to objects, which adds overhead.\n",
        "2. Data Type\n",
        "  - NumPy Array: All elements must be of the same data type (homogeneous).\n",
        "  - Python List: Can store mixed data types (heterogeneous).\n",
        "3. Functionality\n",
        "  - NumPy Array: Supports vectorized operations, broadcasting, mathematical functions, linear algebra, etc.\n",
        "  - Python List: Requires loops or list comprehensions for element-wise operations.\n",
        "4. Memory Usage\n",
        "  - NumPy Array: More compact; uses less memory.\n",
        "  - Python List: Higher memory consumption due to object references.\n",
        "5. Slicing and Indexing\n",
        "  - Both support slicing, but NumPy arrays allow more advanced and multi-dimensional indexing."
      ],
      "metadata": {
        "id": "wuHlmEbm_qZc"
      }
    },
    {
      "cell_type": "code",
      "source": [
        "# 6. Ease of Use with Math Operations\n",
        "#     NumPy Array:\n",
        "import numpy as np\n",
        "a = np.array([1, 2, 3])\n",
        "b = np.array([4, 5, 6])\n",
        "print(a + b)\n",
        "\n",
        "#     Python List:\n",
        "a = [1, 2, 3]\n",
        "b = [4, 5, 6]\n",
        "print(a + b)"
      ],
      "metadata": {
        "id": "gxIs_r7IAUM7"
      },
      "execution_count": null,
      "outputs": []
    },
    {
      "cell_type": "markdown",
      "source": [
        "Q7. What is a heatmap, and when should it be used?\n",
        "- What is a Heatmap?\n",
        "  - A heatmap is a data visualization tool that uses color gradients to represent the magnitude of values in a matrix or 2D data structure.\n",
        "  - Each cell’s color reflects its numeric value (e.g., darker = higher)\n",
        "  - Useful for seeing patterns, correlations, or anomalies at a glance\n",
        " -When to Use a Heatmap:\n",
        "  - To visualize correlations between variables\n",
        "    - Example: correlation matrix of a dataset\n",
        "  - To detect patterns in matrices or grids\n",
        "    - Example: viewing missing data, confusion matrices\n",
        "  - To summarize large numeric data\n",
        "    - Helps highlight extremes (high/low values) quickly\n",
        "  - To explore feature relationships in machine learning\n",
        "  - To display categorical cross-tabulations (with count or percentage)\n",
        "- Key Parameters in sns.heatmap():\n",
        "  - annot=True: displays values inside the cells\n",
        "  - cmap='coolwarm' or 'viridis': sets the color palette\n",
        "  - linewidths=0.5: adds lines between cells\n",
        "  - vmin, vmax: set color scale range\n"
      ],
      "metadata": {
        "id": "q-tF0MzlAkph"
      }
    },
    {
      "cell_type": "markdown",
      "source": [
        "Q8. What does the term “vectorized operation” mean in NumPy?\n",
        "- Definition:\n",
        "  - A vectorized operation in NumPy refers to performing element-wise operations on entire arrays, without using explicit Python loops.\n",
        "  - This is possible because NumPy is built on optimized C code, enabling faster and more efficient computation.\n",
        "- Key Characteristics:\n",
        "  - Operates on entire arrays at once\n",
        "  - Automatically applies the operation to each element\n",
        "  - Much faster than using for loops\n",
        "  - Cleaner, more concise code\n",
        "- Why Vectorization Matters:\n",
        "  - Performance - Executes in compiled C, not slow Python loops\n",
        "  - Simplicity - Code is shorter and easier to read\n",
        "  - Efficiency - Better use of CPU and memory\n",
        "  - Compatibility - Works seamlessly with NumPy and Pandas"
      ],
      "metadata": {
        "id": "Kp2cLZgbBGM4"
      }
    },
    {
      "cell_type": "markdown",
      "source": [
        "Q9.\tHow does Matplotlib differ from Plotly?\n",
        "- Matplotlib vs Plotly\n",
        "1. Type of Plots\n",
        "  - Matplotlib: Static, 2D/3D plots\n",
        "  - Plotly: Interactive, web-based plots (with zoom, hover, tooltips)\n",
        "2. Interactivity\n",
        "  - Matplotlib: Minimal interactivity (basic zoom/pan in Jupyter)\n",
        "  - Plotly: Highly interactive by default (hover, click, zoom)\n",
        "3. Output Format\n",
        "  - Matplotlib: Generates static images (PNG, PDF, SVG)\n",
        "  - Plotly: Generates interactive HTML/JS plots (embeddable in web apps)\n",
        "4. Ease of Use\n",
        "  - Matplotlib: More code required for customization and layout\n",
        "  - Plotly: Easier to create attractive plots with minimal code\n",
        "5. Customization\n",
        "  - Matplotlib: Very flexible but manual and verbose\n",
        "  - Plotly: Many built-in styles and features; less manual tweaking needed\n",
        "6. 3D Plotting\n",
        "  - Matplotlib: Supported via mpl_toolkits.mplot3d, but limited\n",
        "  - Plotly: Built-in support with smooth interactivity\n",
        "7. Animations\n",
        "  - Matplotlib: Possible, but requires more setup\n",
        "  - Plotly: Easy animation with plotly.express or graph_objects\n",
        "8. Integration\n",
        "  - Matplotlib: Best for PDF reports, scientific papers, static exports\n",
        "  - Plotly: Best for web dashboards (via Dash), online sharing\n",
        "9. Learning Curve\n",
        "  - Matplotlib: Steeper, especially for layout/styling\n",
        "  - Plotly: More beginner-friendly for simple interactive visuals\n",
        "10. Use Cases\n",
        "  - Matplotlib: Academic research, static plots, publication-quality figures\n",
        "  - Plotly: Dashboards, web apps, interactive data exploration"
      ],
      "metadata": {
        "id": "d54iAvXEBx-H"
      }
    },
    {
      "cell_type": "markdown",
      "source": [
        "Q10. What is the significance of hierarchical indexing in Pandas?\n",
        "- What is Hierarchical Indexing?\n",
        "  - Hierarchical indexing (also called MultiIndex) in Pandas allows a DataFrame or Series to have multiple index levels. This enables more complex data structures and makes multi-dimensional data analysis possible using a 2D format.\n",
        "- Why Is It Significant?\n",
        "1. Represents Higher-Dimensional Data\n",
        "  - Allows you to represent 3D or N-dimensional data in a 2D DataFrame\n",
        "  - Useful when your data is grouped by multiple categories (e.g., Region + Year)\n",
        "2. Enables Complex Grouping and Aggregation\n",
        "  - Works seamlessly with groupby(), pivot_table(), and stack()/unstack()\n",
        "  - Ideal for working with multi-level categories or time series data\n",
        "3. More Organized and Readable Output\n",
        "  - Makes nested relationships (e.g., Category > Subcategory) more structured\n",
        "  - Columns or rows can be grouped logically for better understanding\n",
        "4. Efficient Subsetting and Slicing\n",
        "  - Allows easy indexing, slicing, and filtering across multiple levels\n",
        "- Common Operations with MultiIndex:\n",
        "  - df.loc['East'] - access all years for East\n",
        "  - df.loc[('East', 2023)] - access a specific row\n",
        "  - df.unstack() - convert one index level to columns\n",
        "  - df.reset_index() - flatten the index\n",
        "  - df.groupby(level=0).sum() - group by outer index\n",
        "\n"
      ],
      "metadata": {
        "id": "MFEcsftOCg61"
      }
    },
    {
      "cell_type": "markdown",
      "source": [
        "Q11. What is the role of Seaborn's pairplot() function?\n",
        "- Purpose:\n",
        "  - The pairplot() function in Seaborn is used to create a grid of scatter plots and histograms to visualize pairwise relationships between variables in a DataFrame.\n",
        "- Key Uses:\n",
        "  - Visualizes all numeric variable combinations in one go\n",
        "  - Reveals relationships, trends, and potential correlations\n",
        "  - Great for exploratory data analysis (EDA), especially in early stages\n",
        "  - Helps detect clusters, outliers, and non-linear patterns\n",
        "- What It Plots:\n",
        "  - Upper and lower triangle: scatter plots between each pair of variables\n",
        "  - Diagonal: histograms or KDE plots for individual variables\n",
        "  - Optional: Color by a categorical variable (hue) to compare classes\n",
        "- Common Parameters:\n",
        "  - hue='column' : Color-code points by category\n",
        "  - kind='scatter' or 'kde' : Plot type (scatter or density)\n",
        "  - diag_kind='hist' or 'kde' : Type of plot on the diagonal\n",
        "  - markers=['o', 's', 'D'] : Custom markers for categories\n",
        "- When to Use pairplot():\n",
        "  - At the beginning of a project for quick insights\n",
        "  - To explore relationships in small to medium-sized datasets\n",
        "  - Before feature selection or dimensionality reduction"
      ],
      "metadata": {
        "id": "DRIf2HPiEOYd"
      }
    },
    {
      "cell_type": "markdown",
      "source": [
        "Q12. What is the purpose of the describe() function in Pandas?\n",
        "- The describe() function in Pandas is used to generate summary statistics for numerical (and optionally categorical) columns in a DataFrame or Series. It provides a quick overview of central tendency, dispersion, and distribution of the data.\n",
        "- What It Returns (for numeric data):\n",
        "  - count: Number of non-null values\n",
        "  - mean: Average value\n",
        "  - std: Standard deviation\n",
        "  - min: Minimum value\n",
        "  - 25%, 50%, 75%: Percentiles (Q1, median, Q3)\n",
        "  - max: Maximum value\n",
        "- Syntax : df.describe()\n",
        "- Why Use describe():\n",
        "  - Quickly understand the distribution of numeric data\n",
        "  - Identify outliers, skewness, or missing values\n",
        "  - Get a statistical profile of your dataset in seconds\n",
        "  - Useful during data cleaning and exploratory data analysis (EDA)"
      ],
      "metadata": {
        "id": "QOwD74JBE_8U"
      }
    },
    {
      "cell_type": "markdown",
      "source": [
        "Q13. Why is handling missing data important in Pandas?\n",
        "- Importance of Handling Missing Data:\n",
        "  - Ensures Data Accuracy\n",
        "    - Missing values can distort analysis, averages, and model performance.\n",
        "  - Prevents Errors in Operations\n",
        "    - Many Pandas operations (e.g., math, joins) may fail or return NaN if missing data isn't addressed.\n",
        "  - Essential for Machine Learning\n",
        "    - Most ML models cannot handle missing values and will throw errors or behave unpredictably.\n",
        "  - Improves Data Quality\n",
        "    - Cleaning up missing data makes your dataset more reliable and interpretable.\n",
        "  - Impacts Visualizations\n",
        "    - Plots may be incomplete or misleading if NaN values are not handled properly.\n",
        "- Causes of Missing Data:\n",
        "  - Data entry errors\n",
        "  - Incomplete data collection\n",
        "  - Merging datasets with mismatched keys\n",
        "  - Corrupt or partial files"
      ],
      "metadata": {
        "id": "wFL7hMkcFfjI"
      }
    },
    {
      "cell_type": "markdown",
      "source": [
        "Q14. What are the benefits of using Plotly for data visualization?\n",
        "- Plotly is a powerful and flexible Python library for creating interactive, web-based data visualizations. It is widely used in data analysis, business intelligence, and web applications.\n",
        "- Key Benefits:\n",
        "1. Interactivity\n",
        "  - Hover tooltips, zoom, pan, and clickable legends\n",
        "  - Enables dynamic exploration of data\n",
        "  - Great for presentations and dashboards\n",
        "2. Web-Based Output\n",
        "  - Generates HTML visualizations that can be embedded in websites or apps\n",
        "  - Integrates easily with frameworks like Dash for full web apps\n",
        "3. Ease of Use\n",
        "  - Simple and intuitive API (especially plotly.express)\n",
        "  - Quickly generate high-quality plots with minimal code\n",
        "4. Wide Range of Plot Types\n",
        "  - Supports standard charts (line, bar, scatter)\n",
        "  - Also supports advanced visualizations:\n",
        "    - 3D plots\n",
        "    - Choropleth maps\n",
        "    - Treemaps\n",
        "    - Sankey diagrams\n",
        "    - Time-series visualizations\n",
        "5. Customizability\n",
        "  - Highly configurable layouts, annotations, and styling\n",
        "  - Fine control over interactivity and appearance\n",
        "6. Built-In Animation Support\n",
        "  - Easily create animated plots over time or categories\n",
        "  - Useful for showing trends and transitions\n",
        "7. Great for Dashboards\n",
        "  - Native integration with Dash, Plotly's dashboard framework\n",
        "  - Ideal for creating live, interactive business dashboards\n",
        "8. Offline and Online Support\n",
        "  - Can work without internet (plotly.offline)\n",
        "  - Can publish charts online with Plotly Cloud or save as HTML"
      ],
      "metadata": {
        "id": "acg__7XIGgkR"
      }
    },
    {
      "cell_type": "markdown",
      "source": [
        "Q15. How does NumPy handle multidimensional arrays?\n",
        "- Overview:\n",
        "  - NumPy uses the ndarray (n-dimensional array) object to handle multidimensional arrays, allowing for efficient storage and operations on large datasets across multiple dimensions (e.g., 2D, 3D, or higher).\n",
        "- Key Concepts:\n",
        "  - ndarray Object:\n",
        "    - Central data structure in NumPy\n",
        "    - Can have any number of dimensions (ndim)\n",
        "    - Each axis is called a dimension, and its length is called a shape\n",
        "- Key Attributes:\n",
        "  - ndim\tNumber of dimensions (axes)\n",
        "  - shape\tTuple representing the size along each dimension\n",
        "  - size\tTotal number of elements\n",
        "  - dtype\tData type of the elements\n"
      ],
      "metadata": {
        "id": "F4kmCnCHG-Dv"
      }
    },
    {
      "cell_type": "markdown",
      "source": [
        "Q16. What is the role of Bokeh in data visualization?\n",
        "- What is Bokeh?\n",
        "  - Bokeh is a powerful Python library for interactive, browser-based visualizations.\n",
        "  - It is designed to create dynamic, scalable, and visually appealing charts, especially for web applications and dashboards.\n",
        "- Key Roles and Features of Bokeh:\n",
        "1. Interactive Visualizations\n",
        "  - Supports zooming, panning, tooltips, sliders, dropdowns, and callbacks\n",
        "  - Ideal for data exploration and user-driven analysis\n",
        "2. Web-Ready Output\n",
        "  - Generates HTML/JavaScript-based visuals\n",
        "  - Plots can be easily embedded in web pages, Jupyter notebooks, or apps\n",
        "3. Large Dataset Handling\n",
        "  - Built for performance — can render plots with millions of points\n",
        "  - Uses WebGL rendering when needed for better speed\n",
        "4. Integration with Web Frameworks\n",
        "  - Integrates seamlessly with Flask, Django, and Streamlit\n",
        "  - Supports building full dashboards using Bokeh server\n",
        "5. Customizable & Extensible\n",
        "  - Allows custom JavaScript callbacks for rich interactivity\n",
        "  - Highly flexible for styling, layout, and design\n",
        "6. Multiple Output Options\n",
        "  - output_file() – saves to HTML\n",
        "  - output_notebook() – displays in Jupyter\n",
        "  - show() – opens plot in browser\n",
        "\n"
      ],
      "metadata": {
        "id": "2ybBcmrlHwjx"
      }
    },
    {
      "cell_type": "markdown",
      "source": [
        "Q17. Explain the difference between apply() and map() in Pandas.\n",
        "- Both apply() and map() are used to apply functions to data in Pandas, but they differ in scope and flexibility.\n",
        "1. map()\n",
        "  - Used only on Series\n",
        "  - Applies a function element-wise\n",
        "  - Best for simple transformations or replacements\n",
        "  - Also supports:\n",
        "    - Functions\n",
        "    - Dictionaries (for mapping values)\n",
        "    - Series (for mapping based on index)\n",
        "2. apply()\n",
        "  - Works on both Series and DataFrames\n",
        "  - More flexible and powerful\n",
        "  - Can apply functions across:\n",
        "    - Rows (axis=1)\n",
        "    - Columns (axis=0)\n",
        "    - Elements (if used on Series)\n"
      ],
      "metadata": {
        "id": "jvIKCuI_IIV5"
      }
    },
    {
      "cell_type": "markdown",
      "source": [
        "Q18. What are some advanced features of NumPy?\n",
        "- NumPy offers many advanced features that go beyond basic array creation and arithmetic. These are powerful tools for efficient scientific computing and large-scale data processing.\n",
        "1. Broadcasting\n",
        "  - Enables arithmetic operations on arrays of different shapes\n",
        "  - Automatically expands smaller arrays to match larger ones without copying data\n",
        "2. Vectorization\n",
        "  - Eliminates the need for loops by performing operations on entire arrays at once\n",
        "  - Leads to faster, more concise code\n",
        "3. Masked Arrays\n",
        "  - Allows handling of invalid or missing data\n",
        "  - Useful in datasets where some values should be ignored in computations\n",
        "4. Structured Arrays\n",
        "  - Arrays with custom compound data types (like records with fields)\n",
        "5. Fancy Indexing\n",
        "  - Allows indexing with arrays or conditions for advanced data selection\n",
        "6. Memory Mapping (memmap)\n",
        "  - Allows working with large arrays stored on disk without loading entire array into memory\n",
        "  - Useful for big data or limited RAM\n",
        "7. Linear Algebra Functions\n",
        "  - Matrix multiplication, inverse, determinant, eigenvalues\n",
        "8. Fourier Transforms & FFT\n",
        "  - Fast Fourier Transform support for signal processing\n",
        "9. Random Number Generation (new in NumPy 1.17+)\n",
        "  - np.random.Generator provides better reproducibility and performance\n",
        "10. Multidimensional Array Manipulation\n",
        "  - Functions like reshape, transpose, rollaxis, moveaxis, etc."
      ],
      "metadata": {
        "id": "3fhThIKbIndG"
      }
    },
    {
      "cell_type": "markdown",
      "source": [
        "Q19. How does Pandas simplify time series analysis?\n",
        "- Pandas makes time series analysis in Python simple and efficient through its rich set of date-time tools, indexing, and resampling functions.\n",
        "- Key Features That Simplify Time Series Work:\n",
        "1. Datetime Indexing\n",
        "  - Supports DatetimeIndex, PeriodIndex, and TimedeltaIndex\n",
        "  - Allows slicing data by time (e.g., by year, month, day)\n",
        "2. Date Parsing\n",
        "  - Automatically converts date strings to datetime objects using pd.to_datetime()\n",
        "  - Handles different formats, time zones, and missing values\n",
        "3. Resampling\n",
        "  - Easily aggregate data over different time frequencies (e.g., daily, monthly, yearly)\n",
        "4. Time-Based Rolling Windows\n",
        "  - Perform rolling statistics (e.g., moving averages) over time intervals\n",
        "5. Shifting and Lagging\n",
        "  - Allows shifting data forward or backward in time\n",
        "6. Frequency Conversion\n",
        "  - Automatically adjusts data to desired frequency using .asfreq() or .resample()\n",
        "7. Datetime Component Extraction\n",
        "  - Easily extract year, month, day, weekday, hour, etc.\n",
        "8. Handling Time Zones\n",
        "  - Built-in support for localizing and converting time zones\n"
      ],
      "metadata": {
        "id": "L-u0v94pJd-p"
      }
    },
    {
      "cell_type": "markdown",
      "source": [
        "Q20. What is the role of a pivot table in Pandas?\n",
        "- A pivot table in Pandas is a powerful tool used to summarize, aggregate, and reshape data — similar to pivot tables in Excel.\n",
        "- Purpose:\n",
        "  - Rearranges (or “pivots”) data for better analysis\n",
        "  - Groups data by one or more keys\n",
        "  - Aggregates values using functions like sum, mean, count, etc.\n",
        "  - Helps in multi-dimensional data analysis\n",
        "- Syntax: pd.pivot_table(data, index, columns, values, aggfunc)\n",
        "- Parameters:\n",
        "  - data - DataFrame to operate on\n",
        "  - index - Keys to group rows\n",
        "  - columns - Keys to group columns\n",
        "  - values - Column(s) to aggregate\n",
        "  - aggfunc - Aggregation function (default is mean)\n",
        "- Key Benefits:\n",
        "  - Reduces data complexity\n",
        "  - Makes trends and patterns easier to spot\n",
        "  - Helps in reporting and dashboards\n",
        "  - Can handle multiple aggregation levels\n",
        "- Common Use Cases:\n",
        "  - Monthly sales by region\n",
        "  - Employee count by department and gender\n",
        "  - Website visits by device and date\n",
        "  - Any grouped statistical summary"
      ],
      "metadata": {
        "id": "IslqvzYMKAGn"
      }
    },
    {
      "cell_type": "markdown",
      "source": [
        "Q21. Why is NumPy's array slicing faster than Python's list slicing?\n",
        "- NumPy’s array slicing is significantly faster than Python list slicing due to the following reasons:\n",
        "1. Contiguous Memory Allocation\n",
        "  - NumPy arrays store data in a contiguous block of memory (like C arrays).\n",
        "  - Python lists are arrays of pointers to objects, leading to extra indirection and overhead.\n",
        "2. Homogeneous Data Types\n",
        "  - NumPy arrays hold elements of the same data type, enabling low-level optimizations.\n",
        "  - Python lists can contain mixed data types, which slows down operations.\n",
        "3. No Object Overhead\n",
        "  - Each element in a Python list is a full Python object, adding memory and CPU cost.\n",
        "  - NumPy uses raw C data types (like int32, float64), reducing overhead.\n",
        "4. View Instead of Copy\n",
        "  - Slicing a NumPy array returns a view (not a copy) — faster and memory-efficient.\n",
        "  - Slicing a Python list creates a new copy of the selected portion.\n",
        "5. Optimized Backend (C/Fortran)\n",
        "  - NumPy operations (including slicing) are implemented in compiled C code, not interpreted Python.\n",
        "  - This drastically improves performance.\n",
        "6. Less Overhead in Loops\n",
        "  - NumPy’s vectorized operations and slicing avoid slow Python-level loops.\n",
        "  - This leads to performance that’s orders of magnitude faster."
      ],
      "metadata": {
        "id": "Ke3tTpB0MMVl"
      }
    },
    {
      "cell_type": "markdown",
      "source": [
        "Q22. What are some common use cases for Seaborn?\n",
        "- Seaborn is a powerful Python library built on top of Matplotlib, specifically designed for statistical data visualization. It simplifies the process of creating visually appealing and informative plots.\n",
        "- Common Use Cases:\n",
        "1. Exploratory Data Analysis (EDA)\n",
        "  - Quickly visualize relationships, distributions, and patterns in datasets.\n",
        "  - Identify missing values, outliers, and correlations.\n",
        "2. Visualizing Distributions\n",
        "  - Use plots like histplot(), kdeplot(), and boxplot() to understand the shape, spread, and central tendency of variables.\n",
        "3. Comparing Categories\n",
        "  - Use barplot(), countplot(), or violinplot() to compare categories and subgroups within the data.\n",
        "4. Analyzing Relationships\n",
        "  - Use scatterplot(), lineplot(), or regplot() to examine the relationships between two variables.\n",
        "    - sns.scatterplot(data=df, x='height', y='weight')\n",
        "5. Correlation Analysis\n",
        "  - Use heatmap() to visualize correlation matrices, making it easier to spot multicollinearity or dependencies.\n",
        "    - sns.heatmap(df.corr(), annot=True, cmap='coolwarm')\n",
        "6. Time Series Analysis\n",
        "  - Plot trends over time using lineplot() or relplot() with time-based data.\n",
        "7. Multivariate Analysis\n",
        "  - Use pairplot() and facetgrid() to visualize interactions between multiple variables.\n",
        "8. Categorical Plotting\n",
        "  - Visualize grouped data with plots like catplot(), which supports multiple types: strip, swarm, box, violin, bar, etc.\n",
        "9. Automated Plot Styling\n",
        "  - Built-in themes and color palettes help create publication-ready visuals with minimal customization.\n",
        "\n"
      ],
      "metadata": {
        "id": "rBTOS9qjMslG"
      }
    },
    {
      "cell_type": "markdown",
      "source": [
        "# Practical Questions"
      ],
      "metadata": {
        "id": "vdfVOQnZPICf"
      }
    },
    {
      "cell_type": "markdown",
      "source": [
        "Q1. How do you create a 2D NumPy array and calculate the sum of each row?"
      ],
      "metadata": {
        "id": "C5CZG8MHPLzY"
      }
    },
    {
      "cell_type": "code",
      "source": [
        "# Create a 2D NumPy Array:\n",
        "\n",
        "import numpy as np\n",
        "\n",
        "arr = np.array([[1, 2, 3], [4, 5, 6], [7, 8, 9]])\n",
        "\n",
        "# Calculate Sum of Each Row:\n",
        "\n",
        "row_sums = np.sum(arr, axis=1)\n",
        "print(row_sums)"
      ],
      "metadata": {
        "colab": {
          "base_uri": "https://localhost:8080/"
        },
        "id": "IP_TVvP2PLF6",
        "outputId": "6059d6d5-70b3-4787-9b5d-ec30bbcad79b"
      },
      "execution_count": 4,
      "outputs": [
        {
          "output_type": "stream",
          "name": "stdout",
          "text": [
            "[ 6 15 24]\n"
          ]
        }
      ]
    },
    {
      "cell_type": "markdown",
      "source": [
        "Q2. Write a Pandas script to find the mean of a specific column in a DataFrame."
      ],
      "metadata": {
        "id": "Fr5OhpaMPr9l"
      }
    },
    {
      "cell_type": "code",
      "execution_count": 7,
      "metadata": {
        "id": "Z-Yd1rHKoCyT",
        "colab": {
          "base_uri": "https://localhost:8080/"
        },
        "outputId": "f0a6dd5f-6d61-47af-ca05-c130f4c44c73"
      },
      "outputs": [
        {
          "output_type": "stream",
          "name": "stdout",
          "text": [
            "Mean Salary: 65000.0\n"
          ]
        }
      ],
      "source": [
        "import pandas as pd\n",
        "\n",
        "data = {\n",
        "    'Name': ['Jay', 'Ajay', 'Vijay', 'Sanjay'],\n",
        "    'Age': [25, 30, 35, 40],\n",
        "    'Salary': [50000, 60000, 70000, 80000]\n",
        "}\n",
        "\n",
        "df = pd.DataFrame(data)\n",
        "\n",
        "mean_salary = df['Salary'].mean()\n",
        "\n",
        "print(\"Mean Salary:\", mean_salary)\n"
      ]
    },
    {
      "cell_type": "markdown",
      "source": [
        "Q3. Create a scatter plot using Matplotlib."
      ],
      "metadata": {
        "id": "vgIsRjznP5Fn"
      }
    },
    {
      "cell_type": "code",
      "source": [
        "import matplotlib.pyplot as plt\n",
        "\n",
        "x = [10, 20, 30, 40, 50]\n",
        "y = [100, 200, 300, 250, 400]\n",
        "\n",
        "plt.scatter(x, y, color='blue', marker='o')\n",
        "\n",
        "plt.xlabel('X Axis')\n",
        "plt.ylabel('Y Axis')\n",
        "plt.title('Simple Scatter Plot')\n",
        "\n",
        "plt.show()\n"
      ],
      "metadata": {
        "colab": {
          "base_uri": "https://localhost:8080/",
          "height": 472
        },
        "id": "rcyqdX76P9jl",
        "outputId": "bce7891a-8d83-495a-d8af-6117d90b4db3"
      },
      "execution_count": 6,
      "outputs": [
        {
          "output_type": "display_data",
          "data": {
            "text/plain": [
              "<Figure size 640x480 with 1 Axes>"
            ],
            "image/png": "[encoded data removed]"
          },
          "metadata": {}
        }
      ]
    },
    {
      "cell_type": "markdown",
      "source": [
        "Q4. How do you calculate the correlation matrix using Seaborn and visualize it with a heatmap?"
      ],
      "metadata": {
        "id": "aPDKxKS5QOqC"
      }
    },
    {
      "cell_type": "code",
      "source": [
        "import pandas as pd\n",
        "import seaborn as sns\n",
        "import matplotlib.pyplot as plt\n",
        "\n",
        "data = {\n",
        "    'Math': [90, 80, 70, 60, 50],\n",
        "    'Science': [88, 76, 66, 54, 43],\n",
        "    'English': [70, 65, 80, 55, 60]\n",
        "}\n",
        "\n",
        "df = pd.DataFrame(data)\n",
        "\n",
        "corr_matrix = df.corr()\n",
        "\n",
        "sns.heatmap(corr_matrix, annot=True, cmap='coolwarm')\n",
        "\n",
        "plt.title(\"Correlation Matrix Heatmap\")\n",
        "plt.show()\n"
      ],
      "metadata": {
        "colab": {
          "base_uri": "https://localhost:8080/",
          "height": 452
        },
        "id": "aaN94OtUQVun",
        "outputId": "81e85751-935d-4a0a-e41d-6f35e61543be"
      },
      "execution_count": 8,
      "outputs": [
        {
          "output_type": "display_data",
          "data": {
            "text/plain": [
              "<Figure size 640x480 with 2 Axes>"
            ],
            "image/png": "[encoded data removed]"
          },
          "metadata": {}
        }
      ]
    },
    {
      "cell_type": "markdown",
      "source": [
        "Q5. Generate a bar plot using Plotly."
      ],
      "metadata": {
        "id": "wbJpQb2NQd3a"
      }
    },
    {
      "cell_type": "code",
      "source": [
        "import plotly.express as px\n",
        "import pandas as pd\n",
        "\n",
        "data = {\n",
        "    'Category': ['A', 'B', 'C', 'D'],\n",
        "    'Values': [100, 200, 150, 300]\n",
        "}\n",
        "\n",
        "df = pd.DataFrame(data)\n",
        "\n",
        "fig = px.bar(df, x='Category', y='Values', title='Simple Bar Plot')\n",
        "\n",
        "fig.show()\n"
      ],
      "metadata": {
        "colab": {
          "base_uri": "https://localhost:8080/",
          "height": 542
        },
        "id": "zHDFXjMeQkMk",
        "outputId": "271bdd7f-3c48-4211-cadf-79efd6331bb1"
      },
      "execution_count": 9,
      "outputs": [
        {
          "output_type": "display_data",
          "data": {
            "text/html": [
              "<html>\n",
              "<head><meta charset=\"utf-8\" /></head>\n",
              "<body>\n",
              "    <div>            <script src=\"https://cdnjs.cloudflare.com/ajax/libs/mathjax/2.7.5/MathJax.js?config=TeX-AMS-MML_SVG\"></script><script type=\"text/javascript\">if (window.MathJax && window.MathJax.Hub && window.MathJax.Hub.Config) {window.MathJax.Hub.Config({SVG: {font: \"STIX-Web\"}});}</script>                <script type=\"text/javascript\">window.PlotlyConfig = {MathJaxConfig: 'local'};</script>\n",
              "        <script charset=\"utf-8\" src=\"https://cdn.plot.ly/plotly-2.35.2.min.js\"></script>                <div id=\"ffd7c543-f85d-4a14-b496-f42e9a58dd7f\" class=\"plotly-graph-div\" style=\"height:525px; width:100%;\"></div>            <script type=\"text/javascript\">                                    window.PLOTLYENV=window.PLOTLYENV || {};                                    if (document.getElementById(\"ffd7c543-f85d-4a14-b496-f42e9a58dd7f\")) {                    Plotly.newPlot(                        \"ffd7c543-f85d-4a14-b496-f42e9a58dd7f\",                        [{\"alignmentgroup\":\"True\",\"hovertemplate\":\"Category=%{x}\\u003cbr\\u003eValues=%{y}\\u003cextra\\u003e\\u003c\\u002fextra\\u003e\",\"legendgroup\":\"\",\"marker\":{\"color\":\"#636efa\",\"pattern\":{\"shape\":\"\"}},\"name\":\"\",\"offsetgroup\":\"\",\"orientation\":\"v\",\"showlegend\":false,\"textposition\":\"auto\",\"x\":[\"A\",\"B\",\"C\",\"D\"],\"xaxis\":\"x\",\"y\":[100,200,150,300],\"yaxis\":\"y\",\"type\":\"bar\"}],                        {\"template\":{\"data\":{\"histogram2dcontour\":[{\"type\":\"histogram2dcontour\",\"colorbar\":{\"outlinewidth\":0,\"ticks\":\"\"},\"colorscale\":[[0.0,\"#0d0887\"],[0.1111111111111111,\"#46039f\"],[0.2222222222222222,\"#7201a8\"],[0.3333333333333333,\"#9c179e\"],[0.4444444444444444,\"#bd3786\"],[0.5555555555555556,\"#d8576b\"],[0.6666666666666666,\"#ed7953\"],[0.7777777777777778,\"#fb9f3a\"],[0.8888888888888888,\"#fdca26\"],[1.0,\"#f0f921\"]]}],\"choropleth\":[{\"type\":\"choropleth\",\"colorbar\":{\"outlinewidth\":0,\"ticks\":\"\"}}],\"histogram2d\":[{\"type\":\"histogram2d\",\"colorbar\":{\"outlinewidth\":0,\"ticks\":\"\"},\"colorscale\":[[0.0,\"#0d0887\"],[0.1111111111111111,\"#46039f\"],[0.2222222222222222,\"#7201a8\"],[0.3333333333333333,\"#9c179e\"],[0.4444444444444444,\"#bd3786\"],[0.5555555555555556,\"#d8576b\"],[0.6666666666666666,\"#ed7953\"],[0.7777777777777778,\"#fb9f3a\"],[0.8888888888888888,\"#fdca26\"],[1.0,\"#f0f921\"]]}],\"heatmap\":[{\"type\":\"heatmap\",\"colorbar\":{\"outlinewidth\":0,\"ticks\":\"\"},\"colorscale\":[[0.0,\"#0d0887\"],[0.1111111111111111,\"#46039f\"],[0.2222222222222222,\"#7201a8\"],[0.3333333333333333,\"#9c179e\"],[0.4444444444444444,\"#bd3786\"],[0.5555555555555556,\"#d8576b\"],[0.6666666666666666,\"#ed7953\"],[0.7777777777777778,\"#fb9f3a\"],[0.8888888888888888,\"#fdca26\"],[1.0,\"#f0f921\"]]}],\"heatmapgl\":[{\"type\":\"heatmapgl\",\"colorbar\":{\"outlinewidth\":0,\"ticks\":\"\"},\"colorscale\":[[0.0,\"#0d0887\"],[0.1111111111111111,\"#46039f\"],[0.2222222222222222,\"#7201a8\"],[0.3333333333333333,\"#9c179e\"],[0.4444444444444444,\"#bd3786\"],[0.5555555555555556,\"#d8576b\"],[0.6666666666666666,\"#ed7953\"],[0.7777777777777778,\"#fb9f3a\"],[0.8888888888888888,\"#fdca26\"],[1.0,\"#f0f921\"]]}],\"contourcarpet\":[{\"type\":\"contourcarpet\",\"colorbar\":{\"outlinewidth\":0,\"ticks\":\"\"}}],\"contour\":[{\"type\":\"contour\",\"colorbar\":{\"outlinewidth\":0,\"ticks\":\"\"},\"colorscale\":[[0.0,\"#0d0887\"],[0.1111111111111111,\"#46039f\"],[0.2222222222222222,\"#7201a8\"],[0.3333333333333333,\"#9c179e\"],[0.4444444444444444,\"#bd3786\"],[0.5555555555555556,\"#d8576b\"],[0.6666666666666666,\"#ed7953\"],[0.7777777777777778,\"#fb9f3a\"],[0.8888888888888888,\"#fdca26\"],[1.0,\"#f0f921\"]]}],\"surface\":[{\"type\":\"surface\",\"colorbar\":{\"outlinewidth\":0,\"ticks\":\"\"},\"colorscale\":[[0.0,\"#0d0887\"],[0.1111111111111111,\"#46039f\"],[0.2222222222222222,\"#7201a8\"],[0.3333333333333333,\"#9c179e\"],[0.4444444444444444,\"#bd3786\"],[0.5555555555555556,\"#d8576b\"],[0.6666666666666666,\"#ed7953\"],[0.7777777777777778,\"#fb9f3a\"],[0.8888888888888888,\"#fdca26\"],[1.0,\"#f0f921\"]]}],\"mesh3d\":[{\"type\":\"mesh3d\",\"colorbar\":{\"outlinewidth\":0,\"ticks\":\"\"}}],\"scatter\":[{\"fillpattern\":{\"fillmode\":\"overlay\",\"size\":10,\"solidity\":0.2},\"type\":\"scatter\"}],\"parcoords\":[{\"type\":\"parcoords\",\"line\":{\"colorbar\":{\"outlinewidth\":0,\"ticks\":\"\"}}}],\"scatterpolargl\":[{\"type\":\"scatterpolargl\",\"marker\":{\"colorbar\":{\"outlinewidth\":0,\"ticks\":\"\"}}}],\"bar\":[{\"error_x\":{\"color\":\"#2a3f5f\"},\"error_y\":{\"color\":\"#2a3f5f\"},\"marker\":{\"line\":{\"color\":\"#E5ECF6\",\"width\":0.5},\"pattern\":{\"fillmode\":\"overlay\",\"size\":10,\"solidity\":0.2}},\"type\":\"bar\"}],\"scattergeo\":[{\"type\":\"scattergeo\",\"marker\":{\"colorbar\":{\"outlinewidth\":0,\"ticks\":\"\"}}}],\"scatterpolar\":[{\"type\":\"scatterpolar\",\"marker\":{\"colorbar\":{\"outlinewidth\":0,\"ticks\":\"\"}}}],\"histogram\":[{\"marker\":{\"pattern\":{\"fillmode\":\"overlay\",\"size\":10,\"solidity\":0.2}},\"type\":\"histogram\"}],\"scattergl\":[{\"type\":\"scattergl\",\"marker\":{\"colorbar\":{\"outlinewidth\":0,\"ticks\":\"\"}}}],\"scatter3d\":[{\"type\":\"scatter3d\",\"line\":{\"colorbar\":{\"outlinewidth\":0,\"ticks\":\"\"}},\"marker\":{\"colorbar\":{\"outlinewidth\":0,\"ticks\":\"\"}}}],\"scattermapbox\":[{\"type\":\"scattermapbox\",\"marker\":{\"colorbar\":{\"outlinewidth\":0,\"ticks\":\"\"}}}],\"scatterternary\":[{\"type\":\"scatterternary\",\"marker\":{\"colorbar\":{\"outlinewidth\":0,\"ticks\":\"\"}}}],\"scattercarpet\":[{\"type\":\"scattercarpet\",\"marker\":{\"colorbar\":{\"outlinewidth\":0,\"ticks\":\"\"}}}],\"carpet\":[{\"aaxis\":{\"endlinecolor\":\"#2a3f5f\",\"gridcolor\":\"white\",\"linecolor\":\"white\",\"minorgridcolor\":\"white\",\"startlinecolor\":\"#2a3f5f\"},\"baxis\":{\"endlinecolor\":\"#2a3f5f\",\"gridcolor\":\"white\",\"linecolor\":\"white\",\"minorgridcolor\":\"white\",\"startlinecolor\":\"#2a3f5f\"},\"type\":\"carpet\"}],\"table\":[{\"cells\":{\"fill\":{\"color\":\"#EBF0F8\"},\"line\":{\"color\":\"white\"}},\"header\":{\"fill\":{\"color\":\"#C8D4E3\"},\"line\":{\"color\":\"white\"}},\"type\":\"table\"}],\"barpolar\":[{\"marker\":{\"line\":{\"color\":\"#E5ECF6\",\"width\":0.5},\"pattern\":{\"fillmode\":\"overlay\",\"size\":10,\"solidity\":0.2}},\"type\":\"barpolar\"}],\"pie\":[{\"automargin\":true,\"type\":\"pie\"}]},\"layout\":{\"autotypenumbers\":\"strict\",\"colorway\":[\"#636efa\",\"#EF553B\",\"#00cc96\",\"#ab63fa\",\"#FFA15A\",\"#19d3f3\",\"#FF6692\",\"#B6E880\",\"#FF97FF\",\"#FECB52\"],\"font\":{\"color\":\"#2a3f5f\"},\"hovermode\":\"closest\",\"hoverlabel\":{\"align\":\"left\"},\"paper_bgcolor\":\"white\",\"plot_bgcolor\":\"#E5ECF6\",\"polar\":{\"bgcolor\":\"#E5ECF6\",\"angularaxis\":{\"gridcolor\":\"white\",\"linecolor\":\"white\",\"ticks\":\"\"},\"radialaxis\":{\"gridcolor\":\"white\",\"linecolor\":\"white\",\"ticks\":\"\"}},\"ternary\":{\"bgcolor\":\"#E5ECF6\",\"aaxis\":{\"gridcolor\":\"white\",\"linecolor\":\"white\",\"ticks\":\"\"},\"baxis\":{\"gridcolor\":\"white\",\"linecolor\":\"white\",\"ticks\":\"\"},\"caxis\":{\"gridcolor\":\"white\",\"linecolor\":\"white\",\"ticks\":\"\"}},\"coloraxis\":{\"colorbar\":{\"outlinewidth\":0,\"ticks\":\"\"}},\"colorscale\":{\"sequential\":[[0.0,\"#0d0887\"],[0.1111111111111111,\"#46039f\"],[0.2222222222222222,\"#7201a8\"],[0.3333333333333333,\"#9c179e\"],[0.4444444444444444,\"#bd3786\"],[0.5555555555555556,\"#d8576b\"],[0.6666666666666666,\"#ed7953\"],[0.7777777777777778,\"#fb9f3a\"],[0.8888888888888888,\"#fdca26\"],[1.0,\"#f0f921\"]],\"sequentialminus\":[[0.0,\"#0d0887\"],[0.1111111111111111,\"#46039f\"],[0.2222222222222222,\"#7201a8\"],[0.3333333333333333,\"#9c179e\"],[0.4444444444444444,\"#bd3786\"],[0.5555555555555556,\"#d8576b\"],[0.6666666666666666,\"#ed7953\"],[0.7777777777777778,\"#fb9f3a\"],[0.8888888888888888,\"#fdca26\"],[1.0,\"#f0f921\"]],\"diverging\":[[0,\"#8e0152\"],[0.1,\"#c51b7d\"],[0.2,\"#de77ae\"],[0.3,\"#f1b6da\"],[0.4,\"#fde0ef\"],[0.5,\"#f7f7f7\"],[0.6,\"#e6f5d0\"],[0.7,\"#b8e186\"],[0.8,\"#7fbc41\"],[0.9,\"#4d9221\"],[1,\"#276419\"]]},\"xaxis\":{\"gridcolor\":\"white\",\"linecolor\":\"white\",\"ticks\":\"\",\"title\":{\"standoff\":15},\"zerolinecolor\":\"white\",\"automargin\":true,\"zerolinewidth\":2},\"yaxis\":{\"gridcolor\":\"white\",\"linecolor\":\"white\",\"ticks\":\"\",\"title\":{\"standoff\":15},\"zerolinecolor\":\"white\",\"automargin\":true,\"zerolinewidth\":2},\"scene\":{\"xaxis\":{\"backgroundcolor\":\"#E5ECF6\",\"gridcolor\":\"white\",\"linecolor\":\"white\",\"showbackground\":true,\"ticks\":\"\",\"zerolinecolor\":\"white\",\"gridwidth\":2},\"yaxis\":{\"backgroundcolor\":\"#E5ECF6\",\"gridcolor\":\"white\",\"linecolor\":\"white\",\"showbackground\":true,\"ticks\":\"\",\"zerolinecolor\":\"white\",\"gridwidth\":2},\"zaxis\":{\"backgroundcolor\":\"#E5ECF6\",\"gridcolor\":\"white\",\"linecolor\":\"white\",\"showbackground\":true,\"ticks\":\"\",\"zerolinecolor\":\"white\",\"gridwidth\":2}},\"shapedefaults\":{\"line\":{\"color\":\"#2a3f5f\"}},\"annotationdefaults\":{\"arrowcolor\":\"#2a3f5f\",\"arrowhead\":0,\"arrowwidth\":1},\"geo\":{\"bgcolor\":\"white\",\"landcolor\":\"#E5ECF6\",\"subunitcolor\":\"white\",\"showland\":true,\"showlakes\":true,\"lakecolor\":\"white\"},\"title\":{\"x\":0.05},\"mapbox\":{\"style\":\"light\"}}},\"xaxis\":{\"anchor\":\"y\",\"domain\":[0.0,1.0],\"title\":{\"text\":\"Category\"}},\"yaxis\":{\"anchor\":\"x\",\"domain\":[0.0,1.0],\"title\":{\"text\":\"Values\"}},\"legend\":{\"tracegroupgap\":0},\"title\":{\"text\":\"Simple Bar Plot\"},\"barmode\":\"relative\"},                        {\"responsive\": true}                    ).then(function(){\n",
              "                            \n",
              "var gd = document.getElementById('ffd7c543-f85d-4a14-b496-f42e9a58dd7f');\n",
              "var x = new MutationObserver(function (mutations, observer) {{\n",
              "        var display = window.getComputedStyle(gd).display;\n",
              "        if (!display || display === 'none') {{\n",
              "            console.log([gd, 'removed!']);\n",
              "            Plotly.purge(gd);\n",
              "            observer.disconnect();\n",
              "        }}\n",
              "}});\n",
              "\n",
              "// Listen for the removal of the full notebook cells\n",
              "var notebookContainer = gd.closest('#notebook-container');\n",
              "if (notebookContainer) {{\n",
              "    x.observe(notebookContainer, {childList: true});\n",
              "}}\n",
              "\n",
              "// Listen for the clearing of the current output cell\n",
              "var outputEl = gd.closest('.output');\n",
              "if (outputEl) {{\n",
              "    x.observe(outputEl, {childList: true});\n",
              "}}\n",
              "\n",
              "                        })                };                            </script>        </div>\n",
              "</body>\n",
              "</html>"
            ]
          },
          "metadata": {}
        }
      ]
    },
    {
      "cell_type": "markdown",
      "source": [
        "Q6. Create a DataFrame and add a new column based on an existing column."
      ],
      "metadata": {
        "id": "mkjOn3zWQqyr"
      }
    },
    {
      "cell_type": "code",
      "source": [
        "import pandas as pd\n",
        "\n",
        "# Step 1: Create DataFrame\n",
        "data = {\n",
        "    'Name': ['Jay', 'Ajay', 'Vijay'],\n",
        "    'Salary': [50000, 60000, 70000]\n",
        "}\n",
        "\n",
        "df = pd.DataFrame(data)\n",
        "\n",
        "df['Bonus'] = df['Salary'] * 0.10\n",
        "\n",
        "print(df)\n"
      ],
      "metadata": {
        "colab": {
          "base_uri": "https://localhost:8080/"
        },
        "id": "b_oHktS-QvfT",
        "outputId": "581421db-7cc9-41c4-c6c9-8af5db96dd2c"
      },
      "execution_count": 10,
      "outputs": [
        {
          "output_type": "stream",
          "name": "stdout",
          "text": [
            "    Name  Salary   Bonus\n",
            "0    Jay   50000  5000.0\n",
            "1   Ajay   60000  6000.0\n",
            "2  Vijay   70000  7000.0\n"
          ]
        }
      ]
    },
    {
      "cell_type": "markdown",
      "source": [
        "Q7. Write a program to perform element—wise multiplication of two NumPy arrays."
      ],
      "metadata": {
        "id": "vCRzyFJxQ6SS"
      }
    },
    {
      "cell_type": "code",
      "source": [
        "import numpy as np\n",
        "\n",
        "a = np.array([1, 2, 3])\n",
        "b = np.array([4, 5, 6])\n",
        "\n",
        "result = a * b\n",
        "\n",
        "print(\"Result:\", result)\n"
      ],
      "metadata": {
        "colab": {
          "base_uri": "https://localhost:8080/"
        },
        "id": "GlCHlNKnQ_3C",
        "outputId": "00caca7a-c051-4f0f-90d9-7e7fd4d3b4d1"
      },
      "execution_count": 11,
      "outputs": [
        {
          "output_type": "stream",
          "name": "stdout",
          "text": [
            "Result: [ 4 10 18]\n"
          ]
        }
      ]
    },
    {
      "cell_type": "markdown",
      "source": [
        "Q8. Create a line plot with multiple lines using Matplotlib."
      ],
      "metadata": {
        "id": "aOgJ2dZTRD7H"
      }
    },
    {
      "cell_type": "code",
      "source": [
        "import matplotlib.pyplot as plt\n",
        "\n",
        "x = [1, 2, 3, 4, 5]\n",
        "y1 = [10, 15, 20, 25, 30]\n",
        "y2 = [5, 10, 15, 10, 5]\n",
        "\n",
        "plt.plot(x, y1, label='Line 1', color='blue', marker='o')\n",
        "plt.plot(x, y2, label='Line 2', color='green', linestyle='--', marker='s')\n",
        "\n",
        "plt.xlabel('X Axis')\n",
        "plt.ylabel('Y Axis')\n",
        "plt.title('Line Plot with Multiple Lines')\n",
        "\n",
        "plt.legend()\n",
        "\n",
        "plt.show()\n"
      ],
      "metadata": {
        "colab": {
          "base_uri": "https://localhost:8080/",
          "height": 472
        },
        "id": "FKsPVa7TRJI-",
        "outputId": "f528fc6f-5067-49b9-b05f-cdd142c44ca3"
      },
      "execution_count": 12,
      "outputs": [
        {
          "output_type": "display_data",
          "data": {
            "text/plain": [
              "<Figure size 640x480 with 1 Axes>"
            ],
            "image/png": "[encoded data removed]"
          },
          "metadata": {}
        }
      ]
    },
    {
      "cell_type": "markdown",
      "source": [
        "Q9. Generate a Pandas DataFrame and filter rows where a column value is greater than a threshold."
      ],
      "metadata": {
        "id": "nl04WRbwRO6a"
      }
    },
    {
      "cell_type": "code",
      "source": [
        "import pandas as pd\n",
        "\n",
        "data = {\n",
        "    'Name': ['Jay', 'Ajay', 'Vijay', 'Sanjay'],\n",
        "    'Score': [85, 72, 90, 65]\n",
        "}\n",
        "\n",
        "df = pd.DataFrame(data)\n",
        "\n",
        "filtered_df = df[df['Score'] > 75]\n",
        "\n",
        "print(filtered_df)\n"
      ],
      "metadata": {
        "colab": {
          "base_uri": "https://localhost:8080/"
        },
        "id": "FiNoLyTbRTjj",
        "outputId": "6a76ae3d-759d-4348-a026-4d7e12e8cc19"
      },
      "execution_count": 13,
      "outputs": [
        {
          "output_type": "stream",
          "name": "stdout",
          "text": [
            "    Name  Score\n",
            "0    Jay     85\n",
            "2  Vijay     90\n"
          ]
        }
      ]
    },
    {
      "cell_type": "markdown",
      "source": [
        "Q10. Create a histogram using Seaborn to visualize a distribution."
      ],
      "metadata": {
        "id": "ADXCLkCSRePV"
      }
    },
    {
      "cell_type": "code",
      "source": [
        "import seaborn as sns\n",
        "import matplotlib.pyplot as plt\n",
        "\n",
        "data = [55, 60, 65, 70, 70, 72, 75, 78, 80, 82, 85, 88, 90, 92, 95, 100]\n",
        "\n",
        "sns.histplot(data, bins=10, kde=True, color='skyblue')\n",
        "\n",
        "plt.title('Score Distribution')\n",
        "plt.xlabel('Score')\n",
        "plt.ylabel('Frequency')\n",
        "\n",
        "plt.show()\n"
      ],
      "metadata": {
        "colab": {
          "base_uri": "https://localhost:8080/",
          "height": 472
        },
        "id": "-uK1huGDRi2v",
        "outputId": "51494a04-2aa0-4ccc-c8a9-591aadb1bc3e"
      },
      "execution_count": 14,
      "outputs": [
        {
          "output_type": "display_data",
          "data": {
            "text/plain": [
              "<Figure size 640x480 with 1 Axes>"
            ],
            "image/png": "[encoded data removed]"
          },
          "metadata": {}
        }
      ]
    },
    {
      "cell_type": "markdown",
      "source": [
        "Q11. Perform matrix multiplication using NumPy."
      ],
      "metadata": {
        "id": "M6gGQs0HRn3k"
      }
    },
    {
      "cell_type": "code",
      "source": [
        "import numpy as np\n",
        "\n",
        "A = np.array([[1, 2], [3, 4]])\n",
        "\n",
        "B = np.array([[5, 6], [7, 8]])\n",
        "\n",
        "result = np.matmul(A, B)\n",
        "\n",
        "print(\"Result:\\n\", result)\n"
      ],
      "metadata": {
        "colab": {
          "base_uri": "https://localhost:8080/"
        },
        "id": "Vq02_7-9RsJL",
        "outputId": "9642315a-f97c-4cb0-f0dc-d1d5c9aeea1f"
      },
      "execution_count": 15,
      "outputs": [
        {
          "output_type": "stream",
          "name": "stdout",
          "text": [
            "Result:\n",
            " [[19 22]\n",
            " [43 50]]\n"
          ]
        }
      ]
    },
    {
      "cell_type": "markdown",
      "source": [
        "Q12. Use Pandas to load a CSV file and display its first 5 rows."
      ],
      "metadata": {
        "id": "OjDt8qjgRzC2"
      }
    },
    {
      "cell_type": "code",
      "source": [
        "import pandas as pd\n",
        "\n",
        "# Load CSV file (replace 'data.csv' with your file path)\n",
        "df = pd.read_csv('employees.csv')\n",
        "\n",
        "print(df.head())\n"
      ],
      "metadata": {
        "colab": {
          "base_uri": "https://localhost:8080/"
        },
        "id": "lVpL2x51R7Yn",
        "outputId": "1fc5eb3b-1735-48db-e6ea-b5a28d0e24a0"
      },
      "execution_count": 23,
      "outputs": [
        {
          "output_type": "stream",
          "name": "stdout",
          "text": [
            "   ID       Name  Age  Department\n",
            "0   1        Jay   24          HR\n",
            "1   2       Ajay   28     Finance\n",
            "2   3      Vijay   22   Marketing\n",
            "3   4     Sanjay   26          IT\n",
            "4   5  Dhananjay   30  Operations\n"
          ]
        }
      ]
    },
    {
      "cell_type": "markdown",
      "source": [
        "Q13. Create a 3D scatter plot using Plotly."
      ],
      "metadata": {
        "id": "FMYXoKO0SKKX"
      }
    },
    {
      "cell_type": "code",
      "source": [
        "import plotly.express as px\n",
        "import pandas as pd\n",
        "\n",
        "data = {\n",
        "    'x': [1, 2, 3, 4, 5],\n",
        "    'y': [10, 15, 13, 17, 19],\n",
        "    'z': [5, 3, 6, 2, 7]\n",
        "}\n",
        "\n",
        "df = pd.DataFrame(data)\n",
        "\n",
        "fig = px.scatter_3d(df, x='x', y='y', z='z', title='3D Scatter Plot')\n",
        "\n",
        "fig.show()\n"
      ],
      "metadata": {
        "colab": {
          "base_uri": "https://localhost:8080/",
          "height": 542
        },
        "id": "BpwlUMPeSPhi",
        "outputId": "5c0355a9-478e-4b89-ada6-4ad16956c34b"
      },
      "execution_count": 16,
      "outputs": [
        {
          "output_type": "display_data",
          "data": {
            "text/html": [
              "<html>\n",
              "<head><meta charset=\"utf-8\" /></head>\n",
              "<body>\n",
              "    <div>            <script src=\"https://cdnjs.cloudflare.com/ajax/libs/mathjax/2.7.5/MathJax.js?config=TeX-AMS-MML_SVG\"></script><script type=\"text/javascript\">if (window.MathJax && window.MathJax.Hub && window.MathJax.Hub.Config) {window.MathJax.Hub.Config({SVG: {font: \"STIX-Web\"}});}</script>                <script type=\"text/javascript\">window.PlotlyConfig = {MathJaxConfig: 'local'};</script>\n",
              "        <script charset=\"utf-8\" src=\"https://cdn.plot.ly/plotly-2.35.2.min.js\"></script>                <div id=\"32f88b04-5b34-4c10-afc1-e4f988decf5f\" class=\"plotly-graph-div\" style=\"height:525px; width:100%;\"></div>            <script type=\"text/javascript\">                                    window.PLOTLYENV=window.PLOTLYENV || {};                                    if (document.getElementById(\"32f88b04-5b34-4c10-afc1-e4f988decf5f\")) {                    Plotly.newPlot(                        \"32f88b04-5b34-4c10-afc1-e4f988decf5f\",                        [{\"hovertemplate\":\"x=%{x}\\u003cbr\\u003ey=%{y}\\u003cbr\\u003ez=%{z}\\u003cextra\\u003e\\u003c\\u002fextra\\u003e\",\"legendgroup\":\"\",\"marker\":{\"color\":\"#636efa\",\"symbol\":\"circle\"},\"mode\":\"markers\",\"name\":\"\",\"scene\":\"scene\",\"showlegend\":false,\"x\":[1,2,3,4,5],\"y\":[10,15,13,17,19],\"z\":[5,3,6,2,7],\"type\":\"scatter3d\"}],                        {\"template\":{\"data\":{\"histogram2dcontour\":[{\"type\":\"histogram2dcontour\",\"colorbar\":{\"outlinewidth\":0,\"ticks\":\"\"},\"colorscale\":[[0.0,\"#0d0887\"],[0.1111111111111111,\"#46039f\"],[0.2222222222222222,\"#7201a8\"],[0.3333333333333333,\"#9c179e\"],[0.4444444444444444,\"#bd3786\"],[0.5555555555555556,\"#d8576b\"],[0.6666666666666666,\"#ed7953\"],[0.7777777777777778,\"#fb9f3a\"],[0.8888888888888888,\"#fdca26\"],[1.0,\"#f0f921\"]]}],\"choropleth\":[{\"type\":\"choropleth\",\"colorbar\":{\"outlinewidth\":0,\"ticks\":\"\"}}],\"histogram2d\":[{\"type\":\"histogram2d\",\"colorbar\":{\"outlinewidth\":0,\"ticks\":\"\"},\"colorscale\":[[0.0,\"#0d0887\"],[0.1111111111111111,\"#46039f\"],[0.2222222222222222,\"#7201a8\"],[0.3333333333333333,\"#9c179e\"],[0.4444444444444444,\"#bd3786\"],[0.5555555555555556,\"#d8576b\"],[0.6666666666666666,\"#ed7953\"],[0.7777777777777778,\"#fb9f3a\"],[0.8888888888888888,\"#fdca26\"],[1.0,\"#f0f921\"]]}],\"heatmap\":[{\"type\":\"heatmap\",\"colorbar\":{\"outlinewidth\":0,\"ticks\":\"\"},\"colorscale\":[[0.0,\"#0d0887\"],[0.1111111111111111,\"#46039f\"],[0.2222222222222222,\"#7201a8\"],[0.3333333333333333,\"#9c179e\"],[0.4444444444444444,\"#bd3786\"],[0.5555555555555556,\"#d8576b\"],[0.6666666666666666,\"#ed7953\"],[0.7777777777777778,\"#fb9f3a\"],[0.8888888888888888,\"#fdca26\"],[1.0,\"#f0f921\"]]}],\"heatmapgl\":[{\"type\":\"heatmapgl\",\"colorbar\":{\"outlinewidth\":0,\"ticks\":\"\"},\"colorscale\":[[0.0,\"#0d0887\"],[0.1111111111111111,\"#46039f\"],[0.2222222222222222,\"#7201a8\"],[0.3333333333333333,\"#9c179e\"],[0.4444444444444444,\"#bd3786\"],[0.5555555555555556,\"#d8576b\"],[0.6666666666666666,\"#ed7953\"],[0.7777777777777778,\"#fb9f3a\"],[0.8888888888888888,\"#fdca26\"],[1.0,\"#f0f921\"]]}],\"contourcarpet\":[{\"type\":\"contourcarpet\",\"colorbar\":{\"outlinewidth\":0,\"ticks\":\"\"}}],\"contour\":[{\"type\":\"contour\",\"colorbar\":{\"outlinewidth\":0,\"ticks\":\"\"},\"colorscale\":[[0.0,\"#0d0887\"],[0.1111111111111111,\"#46039f\"],[0.2222222222222222,\"#7201a8\"],[0.3333333333333333,\"#9c179e\"],[0.4444444444444444,\"#bd3786\"],[0.5555555555555556,\"#d8576b\"],[0.6666666666666666,\"#ed7953\"],[0.7777777777777778,\"#fb9f3a\"],[0.8888888888888888,\"#fdca26\"],[1.0,\"#f0f921\"]]}],\"surface\":[{\"type\":\"surface\",\"colorbar\":{\"outlinewidth\":0,\"ticks\":\"\"},\"colorscale\":[[0.0,\"#0d0887\"],[0.1111111111111111,\"#46039f\"],[0.2222222222222222,\"#7201a8\"],[0.3333333333333333,\"#9c179e\"],[0.4444444444444444,\"#bd3786\"],[0.5555555555555556,\"#d8576b\"],[0.6666666666666666,\"#ed7953\"],[0.7777777777777778,\"#fb9f3a\"],[0.8888888888888888,\"#fdca26\"],[1.0,\"#f0f921\"]]}],\"mesh3d\":[{\"type\":\"mesh3d\",\"colorbar\":{\"outlinewidth\":0,\"ticks\":\"\"}}],\"scatter\":[{\"fillpattern\":{\"fillmode\":\"overlay\",\"size\":10,\"solidity\":0.2},\"type\":\"scatter\"}],\"parcoords\":[{\"type\":\"parcoords\",\"line\":{\"colorbar\":{\"outlinewidth\":0,\"ticks\":\"\"}}}],\"scatterpolargl\":[{\"type\":\"scatterpolargl\",\"marker\":{\"colorbar\":{\"outlinewidth\":0,\"ticks\":\"\"}}}],\"bar\":[{\"error_x\":{\"color\":\"#2a3f5f\"},\"error_y\":{\"color\":\"#2a3f5f\"},\"marker\":{\"line\":{\"color\":\"#E5ECF6\",\"width\":0.5},\"pattern\":{\"fillmode\":\"overlay\",\"size\":10,\"solidity\":0.2}},\"type\":\"bar\"}],\"scattergeo\":[{\"type\":\"scattergeo\",\"marker\":{\"colorbar\":{\"outlinewidth\":0,\"ticks\":\"\"}}}],\"scatterpolar\":[{\"type\":\"scatterpolar\",\"marker\":{\"colorbar\":{\"outlinewidth\":0,\"ticks\":\"\"}}}],\"histogram\":[{\"marker\":{\"pattern\":{\"fillmode\":\"overlay\",\"size\":10,\"solidity\":0.2}},\"type\":\"histogram\"}],\"scattergl\":[{\"type\":\"scattergl\",\"marker\":{\"colorbar\":{\"outlinewidth\":0,\"ticks\":\"\"}}}],\"scatter3d\":[{\"type\":\"scatter3d\",\"line\":{\"colorbar\":{\"outlinewidth\":0,\"ticks\":\"\"}},\"marker\":{\"colorbar\":{\"outlinewidth\":0,\"ticks\":\"\"}}}],\"scattermapbox\":[{\"type\":\"scattermapbox\",\"marker\":{\"colorbar\":{\"outlinewidth\":0,\"ticks\":\"\"}}}],\"scatterternary\":[{\"type\":\"scatterternary\",\"marker\":{\"colorbar\":{\"outlinewidth\":0,\"ticks\":\"\"}}}],\"scattercarpet\":[{\"type\":\"scattercarpet\",\"marker\":{\"colorbar\":{\"outlinewidth\":0,\"ticks\":\"\"}}}],\"carpet\":[{\"aaxis\":{\"endlinecolor\":\"#2a3f5f\",\"gridcolor\":\"white\",\"linecolor\":\"white\",\"minorgridcolor\":\"white\",\"startlinecolor\":\"#2a3f5f\"},\"baxis\":{\"endlinecolor\":\"#2a3f5f\",\"gridcolor\":\"white\",\"linecolor\":\"white\",\"minorgridcolor\":\"white\",\"startlinecolor\":\"#2a3f5f\"},\"type\":\"carpet\"}],\"table\":[{\"cells\":{\"fill\":{\"color\":\"#EBF0F8\"},\"line\":{\"color\":\"white\"}},\"header\":{\"fill\":{\"color\":\"#C8D4E3\"},\"line\":{\"color\":\"white\"}},\"type\":\"table\"}],\"barpolar\":[{\"marker\":{\"line\":{\"color\":\"#E5ECF6\",\"width\":0.5},\"pattern\":{\"fillmode\":\"overlay\",\"size\":10,\"solidity\":0.2}},\"type\":\"barpolar\"}],\"pie\":[{\"automargin\":true,\"type\":\"pie\"}]},\"layout\":{\"autotypenumbers\":\"strict\",\"colorway\":[\"#636efa\",\"#EF553B\",\"#00cc96\",\"#ab63fa\",\"#FFA15A\",\"#19d3f3\",\"#FF6692\",\"#B6E880\",\"#FF97FF\",\"#FECB52\"],\"font\":{\"color\":\"#2a3f5f\"},\"hovermode\":\"closest\",\"hoverlabel\":{\"align\":\"left\"},\"paper_bgcolor\":\"white\",\"plot_bgcolor\":\"#E5ECF6\",\"polar\":{\"bgcolor\":\"#E5ECF6\",\"angularaxis\":{\"gridcolor\":\"white\",\"linecolor\":\"white\",\"ticks\":\"\"},\"radialaxis\":{\"gridcolor\":\"white\",\"linecolor\":\"white\",\"ticks\":\"\"}},\"ternary\":{\"bgcolor\":\"#E5ECF6\",\"aaxis\":{\"gridcolor\":\"white\",\"linecolor\":\"white\",\"ticks\":\"\"},\"baxis\":{\"gridcolor\":\"white\",\"linecolor\":\"white\",\"ticks\":\"\"},\"caxis\":{\"gridcolor\":\"white\",\"linecolor\":\"white\",\"ticks\":\"\"}},\"coloraxis\":{\"colorbar\":{\"outlinewidth\":0,\"ticks\":\"\"}},\"colorscale\":{\"sequential\":[[0.0,\"#0d0887\"],[0.1111111111111111,\"#46039f\"],[0.2222222222222222,\"#7201a8\"],[0.3333333333333333,\"#9c179e\"],[0.4444444444444444,\"#bd3786\"],[0.5555555555555556,\"#d8576b\"],[0.6666666666666666,\"#ed7953\"],[0.7777777777777778,\"#fb9f3a\"],[0.8888888888888888,\"#fdca26\"],[1.0,\"#f0f921\"]],\"sequentialminus\":[[0.0,\"#0d0887\"],[0.1111111111111111,\"#46039f\"],[0.2222222222222222,\"#7201a8\"],[0.3333333333333333,\"#9c179e\"],[0.4444444444444444,\"#bd3786\"],[0.5555555555555556,\"#d8576b\"],[0.6666666666666666,\"#ed7953\"],[0.7777777777777778,\"#fb9f3a\"],[0.8888888888888888,\"#fdca26\"],[1.0,\"#f0f921\"]],\"diverging\":[[0,\"#8e0152\"],[0.1,\"#c51b7d\"],[0.2,\"#de77ae\"],[0.3,\"#f1b6da\"],[0.4,\"#fde0ef\"],[0.5,\"#f7f7f7\"],[0.6,\"#e6f5d0\"],[0.7,\"#b8e186\"],[0.8,\"#7fbc41\"],[0.9,\"#4d9221\"],[1,\"#276419\"]]},\"xaxis\":{\"gridcolor\":\"white\",\"linecolor\":\"white\",\"ticks\":\"\",\"title\":{\"standoff\":15},\"zerolinecolor\":\"white\",\"automargin\":true,\"zerolinewidth\":2},\"yaxis\":{\"gridcolor\":\"white\",\"linecolor\":\"white\",\"ticks\":\"\",\"title\":{\"standoff\":15},\"zerolinecolor\":\"white\",\"automargin\":true,\"zerolinewidth\":2},\"scene\":{\"xaxis\":{\"backgroundcolor\":\"#E5ECF6\",\"gridcolor\":\"white\",\"linecolor\":\"white\",\"showbackground\":true,\"ticks\":\"\",\"zerolinecolor\":\"white\",\"gridwidth\":2},\"yaxis\":{\"backgroundcolor\":\"#E5ECF6\",\"gridcolor\":\"white\",\"linecolor\":\"white\",\"showbackground\":true,\"ticks\":\"\",\"zerolinecolor\":\"white\",\"gridwidth\":2},\"zaxis\":{\"backgroundcolor\":\"#E5ECF6\",\"gridcolor\":\"white\",\"linecolor\":\"white\",\"showbackground\":true,\"ticks\":\"\",\"zerolinecolor\":\"white\",\"gridwidth\":2}},\"shapedefaults\":{\"line\":{\"color\":\"#2a3f5f\"}},\"annotationdefaults\":{\"arrowcolor\":\"#2a3f5f\",\"arrowhead\":0,\"arrowwidth\":1},\"geo\":{\"bgcolor\":\"white\",\"landcolor\":\"#E5ECF6\",\"subunitcolor\":\"white\",\"showland\":true,\"showlakes\":true,\"lakecolor\":\"white\"},\"title\":{\"x\":0.05},\"mapbox\":{\"style\":\"light\"}}},\"scene\":{\"domain\":{\"x\":[0.0,1.0],\"y\":[0.0,1.0]},\"xaxis\":{\"title\":{\"text\":\"x\"}},\"yaxis\":{\"title\":{\"text\":\"y\"}},\"zaxis\":{\"title\":{\"text\":\"z\"}}},\"legend\":{\"tracegroupgap\":0},\"title\":{\"text\":\"3D Scatter Plot\"}},                        {\"responsive\": true}                    ).then(function(){\n",
              "                            \n",
              "var gd = document.getElementById('32f88b04-5b34-4c10-afc1-e4f988decf5f');\n",
              "var x = new MutationObserver(function (mutations, observer) {{\n",
              "        var display = window.getComputedStyle(gd).display;\n",
              "        if (!display || display === 'none') {{\n",
              "            console.log([gd, 'removed!']);\n",
              "            Plotly.purge(gd);\n",
              "            observer.disconnect();\n",
              "        }}\n",
              "}});\n",
              "\n",
              "// Listen for the removal of the full notebook cells\n",
              "var notebookContainer = gd.closest('#notebook-container');\n",
              "if (notebookContainer) {{\n",
              "    x.observe(notebookContainer, {childList: true});\n",
              "}}\n",
              "\n",
              "// Listen for the clearing of the current output cell\n",
              "var outputEl = gd.closest('.output');\n",
              "if (outputEl) {{\n",
              "    x.observe(outputEl, {childList: true});\n",
              "}}\n",
              "\n",
              "                        })                };                            </script>        </div>\n",
              "</body>\n",
              "</html>"
            ]
          },
          "metadata": {}
        }
      ]
    }
  ]
}